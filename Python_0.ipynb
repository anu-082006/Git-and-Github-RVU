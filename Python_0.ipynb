{
  "cells": [
    {
      "cell_type": "markdown",
      "metadata": {
        "id": "view-in-github",
        "colab_type": "text"
      },
      "source": [
        "<a href=\"https://colab.research.google.com/github/anu-082006/Git-and-Github-RVU/blob/main/Python_0.ipynb\" target=\"_parent\"><img src=\"https://colab.research.google.com/assets/colab-badge.svg\" alt=\"Open In Colab\"/></a>"
      ]
    },
    {
      "cell_type": "markdown",
      "id": "847367e8-5d5e-4f3d-8048-c09870bad7d3",
      "metadata": {
        "id": "847367e8-5d5e-4f3d-8048-c09870bad7d3"
      },
      "source": [
        "# 🐍✨ Python Workshop [ Beginner Level ]\n",
        "\n",
        "> **Designed & Curated by the AI & ML Team** 🧠💻\n",
        "\n",
        "---\n",
        "\n",
        "🎯 **Welcome!**  \n",
        "You're about to begin an exciting journey into Python — one of the most powerful, beginner-friendly programming languages used in **AI**, **ML**, **Data Science**, **Web Development**, and much more!\n",
        "\n",
        "---\n",
        "## 🗓️ Workshop Agenda\n",
        "\n",
        "| 🕰️ Time               | 🧠 Topic                                                                 |\n",
        "|-----------------------|------------------------------------------------------------------------|\n",
        "| **9:10 – 11:10 AM**   | 📘 Introduction to Python Programming                                   |\n",
        "|   | 🧮 Variables, Input Statements & Data Types                             |\n",
        "|   | 🔁 Control Structures: Conditional Statements & Loops                   |\n",
        "|  | ☕ **Short Break**                                                       |\n",
        "|  | 📦 Data Structures: Lists and Dictionaries                              |\n",
        "\n",
        "---\n",
        "\n",
        "## 🗂️ Workshop Outline\n",
        "\n",
        "| 🔢 Section | 🧩 Topic                             | 📝 Activities                        |\n",
        "|-----------|--------------------------------------|--------------------------------------|\n",
        "| 1         | Introduction to Python               | Setup, Hello World                   |\n",
        "| 2         | Variables & Data Types               | Live coding, Input/output            |\n",
        "| 3         | Control Flow                         | If-Else, Loops, Conditions           |\n",
        "| 4         | Functions & Modules                  | Creating, Calling, Importing         |\n",
        "| 5         | Data Structures                      | List, Tuple, Dictionary, Set         |\n",
        "| 6         | Practice Excercises                  | For Each Concept                     |\n",
        "\n",
        "---\n",
        "\n",
        "## 🎯 Learning Outcomes\n",
        "\n",
        "By the end of this workshop, you will be able to:\n",
        "\n",
        "✅ Understand core Python syntax  \n",
        "✅ Write clean and readable code  \n",
        "✅ Use data types, control flow, and loops  \n",
        "✅ Build and import Python modules   \n",
        "✅ Apply logic to solve real problems  \n",
        "\n",
        "---\n",
        "\n",
        "## 💻 What You Need\n",
        "\n",
        "- 🐍 Python 3.7 or above (Anaconda Recommended)  \n",
        "- 📓 Jupyter Notebook (comes with Anaconda)  \n",
        "- 👩‍💻 Optional: VS Code or any text editor\n",
        "\n",
        "---\n",
        "\n",
        "## 🧭 Getting Started\n",
        "\n",
        "> Run each code cell by clicking it and pressing `Shift + Enter`.\n",
        "\n",
        "🟩 Code cells — for writing and running Python code  \n",
        "🟨 Markdown cells — for reading instructions and notes  \n",
        "💡 Try changing code and running it again to see what happens!\n",
        "\n",
        "---\n",
        "\n",
        "## 🔰 Pro Tip\n",
        "\n",
        "- Use `#` for writing comments inside your code\n",
        "- Practice by typing code — not just reading it\n",
        "- When in doubt, print it out (`print()` is your friend!)\n",
        "\n",
        "---\n",
        "\n",
        "## 🚀 Let’s Begin!\n",
        "\n",
        "👇 Scroll down to start with your first concept:  "
      ]
    },
    {
      "cell_type": "markdown",
      "id": "36ba7cb2-ccba-416f-9387-66cd2143f7fd",
      "metadata": {
        "id": "36ba7cb2-ccba-416f-9387-66cd2143f7fd"
      },
      "source": [
        "#### 🧑‍🎓 Student Details\n",
        "\n",
        "| Field                | Information                |\n",
        "|---------------------|----------------------------|\n",
        "| 👨‍🎓 **Name**            | _Annapurna S_     |\n",
        "| 🆔 **USN**              | _1RUA24CSE0060_           |\n",
        "| **Section**        | _A_ |\n",
        "| **Programme**   | B.Tech(H)             |\n",
        "| **School**  | Computer Science and Engineering |"
      ]
    },
    {
      "cell_type": "markdown",
      "id": "dac7a73c-c75d-4da4-8e47-25046ef478f7",
      "metadata": {
        "id": "dac7a73c-c75d-4da4-8e47-25046ef478f7"
      },
      "source": [
        "The material presented on this website assumes no prior knowledge of Python. Experience with programming concepts or another programming language will help, but is not required to understand the material.\n",
        "\n",
        "The website/Notebook comprises the following:\n",
        "1. **Section**: these contain the core content. Read through these at your leisure.\n",
        "2. **Practice Exercises**: there are optional practice exercise sets to complement each chapter (solutions included). Try your hand at these for extra practice and to help solidify concepts in the **Chapters**."
      ]
    },
    {
      "cell_type": "markdown",
      "id": "6f5c063e-f696-4a66-ac5f-12f5711c9e86",
      "metadata": {
        "id": "6f5c063e-f696-4a66-ac5f-12f5711c9e86"
      },
      "source": [
        "# 🐍 Introduction to Python\n",
        "\n",
        "## 🔍 What is Python?\n",
        "Python is a high-level, easy-to-learn programming language used for web development, automation, data science, machine learning, and more.\n",
        "\n",
        "\n",
        "## 🏛️ History of Python\n",
        "- **1989**: Created by **Guido van Rossum** during Christmas at CWI, Netherlands.\n",
        "- **1991**: First version (0.9.0) released.\n",
        "---\n",
        "\n",
        "## 🎯 Motivation Behind Python\n",
        "Guido wanted a language that:\n",
        "- Is simple and readable\n",
        "- Supports multiple programming styles\n",
        "- Is open-source and easy to extend\n",
        "- Encourages writing clean, logical code\n",
        "\n",
        "👉 Inspired by the **ABC language** and **Monty Python** comedy show.\n",
        "\n",
        "---\n",
        "\n",
        "## 💡 Why Python?\n",
        "- Easy to read and write (English-like syntax)\n",
        "- Cross-platform and open-source\n",
        "- Huge library support (NumPy, Pandas, Flask, etc.)\n",
        "- Strong community and documentation\n",
        "\n",
        "\n",
        "## 🌍 Where is Python Used?\n",
        "- Google, YouTube, Netflix, NASA\n",
        "- AI/ML, web apps, automation, games, IoT\n",
        "\n",
        "---\n",
        "\n",
        "## ✅ Example\n",
        "```python\n",
        "print(\"Hello, Python!\")\n"
      ]
    },
    {
      "cell_type": "code",
      "execution_count": 1,
      "id": "93fb3cfa-8c7b-47e4-8da3-41f69309c860",
      "metadata": {
        "colab": {
          "base_uri": "https://localhost:8080/"
        },
        "id": "93fb3cfa-8c7b-47e4-8da3-41f69309c860",
        "outputId": "c8e45a85-cc3e-43e5-cb10-7bc61f918e67"
      },
      "outputs": [
        {
          "output_type": "stream",
          "name": "stdout",
          "text": [
            "🧑‍💻 System Details\n",
            "----------------------------------------\n",
            "User Name           : root\n",
            "Timestamp           : 2025-08-07 04:40:51\n",
            "OS                  : Linux 6.1.123+\n",
            "Processor           : x86_64\n",
            "RAM (GB)            : 12.67\n",
            "Python Version      : 3.11.13\n",
            "Working Directory   : /content\n"
          ]
        }
      ],
      "source": [
        "import platform\n",
        "import psutil\n",
        "from datetime import datetime\n",
        "import sys\n",
        "import getpass\n",
        "import os\n",
        "\n",
        "# Timestamp\n",
        "timestamp = datetime.now().strftime('%Y-%m-%d %H:%M:%S')\n",
        "# System Information\n",
        "system_info = {\n",
        "    \"User Name\": getpass.getuser(),\n",
        "    \"Timestamp\": timestamp,\n",
        "    \"OS\": platform.system() + \" \" + platform.release(),\n",
        "    \"Processor\": platform.processor(),\n",
        "    \"RAM (GB)\": round(psutil.virtual_memory().total / (1024 ** 3), 2),\n",
        "    \"Python Version\": platform.python_version(),\n",
        "    \"Working Directory\": os.getcwd()\n",
        "}\n",
        "# Print formatted results\n",
        "print(\"🧑‍💻 System Details\\n\" + \"-\"*40)\n",
        "for key, value in system_info.items():\n",
        "    print(f\"{key:20}: {value}\")"
      ]
    },
    {
      "cell_type": "markdown",
      "id": "634b13ed-c8b2-4cad-94e4-17f5be64d788",
      "metadata": {
        "id": "634b13ed-c8b2-4cad-94e4-17f5be64d788"
      },
      "source": [
        "### Basic Python Terminologies"
      ]
    },
    {
      "cell_type": "markdown",
      "id": "1d7a4670-a7f9-484a-9567-d4dec699e845",
      "metadata": {
        "id": "1d7a4670-a7f9-484a-9567-d4dec699e845"
      },
      "source": [
        "| Concept Category                  | Terminologies                                                                                         | Description / Notes |\n",
        "|----------------------------------|------------------------------------------------------------------------------------------------|----------------------|\n",
        "| **Basics**                       | [Variables](#variables), [Indentation](#indentation), [Comment](#comment)                     | Fundamental elements of Python syntax |\n",
        "| **Modularization**               | [Module](#module), [Package](#package)                                                        | Code reuse & organization |\n",
        "| **Execution**                    | [Interpreter](#interpreter), [Virtual Environment](#virtual-python-environment), [Pseudocode](#pseudocode) | Code execution & planning |\n",
        "| **Data Types & Structures**      | [String](#string), [Int](#int), [Float](#float), [Boolean](#boolean), [List](#list), [Tuple](#tuple), [Dictionary](#dictionary), [Set](#set) | Python's core data representation |\n",
        "| **Control Flow**                 | [If](#if), [Else-if](#else-if), [For Loop](#for), [While Loop](#while), [Break](#break), [Continue](#continue) | Logical decision-making and repetition |\n",
        "| **Functions & OOP**              | [Function](#function), [Argument/Parameter](#argumentparameter), [Return](#return), [Method](#method), [Lambda](#lambda), [Object](#object), [Inheritance](#inheritance), [Self](#self) | Code modularity & OOP principles |\n",
        "| **Error Handling**               | [Exception](#exception)                                                                       | Handling runtime errors |\n",
        "| **Programming Paradigms**        | [Procedural](#procedural), [Functional](#functional), [Object-Oriented](#object)              | Different styles of writing programs |\n"
      ]
    },
    {
      "cell_type": "markdown",
      "id": "a4d0f2fd-6668-4513-aab0-8512dfe4d759",
      "metadata": {
        "id": "a4d0f2fd-6668-4513-aab0-8512dfe4d759"
      },
      "source": [
        "#### Practice Examples : Variables, Intendation and Comments"
      ]
    },
    {
      "cell_type": "markdown",
      "id": "c3eb7a55-0ded-4f2b-a477-1e194669d313",
      "metadata": {
        "id": "c3eb7a55-0ded-4f2b-a477-1e194669d313"
      },
      "source": [
        "- A **value** is a piece of data that a computer program works with such as a number or text. There are different **types** of values: `42` is an integer and `\"Hello!\"` is a string.\n",
        "\n",
        "- A **variable** is a name that refers to a value. In mathematics and statistics, we usually use variable names like $x$ and $y$. In Python, we can use any word as a variable name as long as it starts with a letter or an underscore. However, it should not be a [reserved word](https://docs.python.org/3.3/reference/lexical_analysis.html#keywords) in Python such as `for`, `while`, `class`, `lambda`, etc. as these words encode special functionality in Python that we don't want to overwrite!\n",
        "\n",
        "It can be helpful to think of a variable as a box that holds some information (a single number, a vector, a string, etc). We use the **assignment operator** `=` to assign a value to a variable."
      ]
    },
    {
      "cell_type": "code",
      "execution_count": 4,
      "id": "d48c0b35-f56c-405a-998f-80897f1e02f7",
      "metadata": {
        "colab": {
          "base_uri": "https://localhost:8080/"
        },
        "id": "d48c0b35-f56c-405a-998f-80897f1e02f7",
        "outputId": "9a951d6b-89d5-4da5-d680-356fbe6dd0ce"
      },
      "outputs": [
        {
          "output_type": "stream",
          "name": "stdout",
          "text": [
            "Astronaut Profile\n",
            "Name: Dr. Riya Sharma\n",
            "Mission Year: 2025\n",
            "Moon Landing Scheduled: True\n",
            "Oxygen Level: 87.5 %\n",
            "Status: Oxygen level is sufficient for mission.\n",
            "Type of oxygen_level variable: <class 'float'>\n"
          ]
        }
      ],
      "source": [
        "# Example Program: NASA Astronaut Profile\n",
        "\n",
        "# 👩‍🚀 Variable Declarations\n",
        "astronaut_name = \"Dr. Riya Sharma\"    # Name of astronaut\n",
        "mission_year = 2025                   # Mission launch year\n",
        "moon_landing = True                   # Will land on moon?\n",
        "oxygen_level = 87.5                   # Oxygen level in percentage\n",
        "\n",
        "# 🛰️ Output the astronaut's info\n",
        "print(\"Astronaut Profile\")\n",
        "print(\"Name:\", astronaut_name)\n",
        "print(\"Mission Year:\", mission_year)\n",
        "print(\"Moon Landing Scheduled:\", moon_landing)\n",
        "print(\"Oxygen Level:\", oxygen_level, \"%\")\n",
        "\n",
        "# 📌 Indentation and Condition Example\n",
        "if oxygen_level > 80:\n",
        "    print(\"Status: Oxygen level is sufficient for mission.\")\n",
        "else:\n",
        "    print(\"Status: Oxygen level is LOW! Alert required.\")\n",
        "\n",
        "# 📝 Type check (for learning purpose)\n",
        "print(\"Type of oxygen_level variable:\", type(oxygen_level))"
      ]
    },
    {
      "cell_type": "code",
      "execution_count": 3,
      "id": "69cd38ad-7557-484c-a221-42500aeda4d1",
      "metadata": {
        "id": "69cd38ad-7557-484c-a221-42500aeda4d1",
        "colab": {
          "base_uri": "https://localhost:8080/"
        },
        "outputId": "e6cea5a1-ab21-447f-e223-cb9cd7cb9f14"
      },
      "outputs": [
        {
          "output_type": "stream",
          "name": "stdout",
          "text": [
            "Enter astronaut name: shubanshu shukla\n",
            "Enter current oxygen level: 87.5\n",
            "Updated name: shubanshu shukla\n",
            "Updated oxygen level: 87.5\n"
          ]
        }
      ],
      "source": [
        "# 🔁 Task for Students: Input from user\n",
        "# Uncomment below lines to take input dynamically\n",
        "astronaut_name = input(\"Enter astronaut name: \")\n",
        "oxygen_level = float(input(\"Enter current oxygen level: \"))\n",
        "print(\"Updated name:\", astronaut_name)\n",
        "print(\"Updated oxygen level:\", oxygen_level)\n",
        "\n",
        "# ✅ Comment Example\n",
        "# This program simulates a simple astronaut profile used in NASA system.\n",
        "# Variables are used to store and display astronaut details."
      ]
    },
    {
      "cell_type": "markdown",
      "id": "9168cc8a-81a7-40d9-bef5-cbc9655d5fe1",
      "metadata": {
        "id": "9168cc8a-81a7-40d9-bef5-cbc9655d5fe1"
      },
      "source": [
        "### Common built-in Python data types\n",
        "\n",
        "| English name          | Type name  | Type Category  | Description                                   | Example                                    |\n",
        "| :-------------------- | :--------- | :------------- | :-------------------------------------------- | :----------------------------------------- |\n",
        "| integer               | `int`      | Numeric Type   | positive/negative whole numbers               | `42`                                       |\n",
        "| floating point number | `float`    | Numeric Type   | real number in decimal form                   | `3.14159`                                  |\n",
        "| boolean               | `bool`     | Boolean Values | true or false                                 | `True`                                     |\n",
        "| string                | `str`      | Sequence Type  | text                                          | `\"I Can Has Cheezburger?\"`                 |\n",
        "| list                  | `list`     | Sequence Type  | a collection of objects - mutable & ordered   | `['Ali', 'Xinyi', 'Miriam']`               |\n",
        "| tuple                 | `tuple`    | Sequence Type  | a collection of objects - immutable & ordered | `('Thursday', 6, 9, 2018)`                 |\n",
        "| dictionary            | `dict`     | Mapping Type   | mapping of key-value pairs                    | `{'name':'DSCI', 'code':511, 'credits':2}` |\n",
        "| none                  | `NoneType` | Null Object    | represents no value                           | `None`                                     |"
      ]
    },
    {
      "cell_type": "markdown",
      "id": "8ea25bce-6738-4200-95ec-0f30a71fd6d5",
      "metadata": {
        "id": "8ea25bce-6738-4200-95ec-0f30a71fd6d5"
      },
      "source": [
        "### Numeric data types"
      ]
    },
    {
      "cell_type": "markdown",
      "id": "b957557c-f704-4871-8825-45bf1629c7c7",
      "metadata": {
        "id": "b957557c-f704-4871-8825-45bf1629c7c7"
      },
      "source": [
        "There are three distinct numeric types: `integers`, `floating point numbers`, and `complex numbers` (not covered here). We can determine the type of an object in Python using `type()`. We can print the value of the object using `print()`."
      ]
    },
    {
      "cell_type": "code",
      "execution_count": 7,
      "id": "76eab667-fa47-448b-aff9-a81859aa2cc8",
      "metadata": {
        "id": "76eab667-fa47-448b-aff9-a81859aa2cc8"
      },
      "outputs": [],
      "source": [
        "x = 42"
      ]
    },
    {
      "cell_type": "code",
      "execution_count": 6,
      "id": "b869cc32-0f82-418f-9842-eb2668c9a959",
      "metadata": {
        "id": "b869cc32-0f82-418f-9842-eb2668c9a959",
        "colab": {
          "base_uri": "https://localhost:8080/"
        },
        "outputId": "14ac8651-0487-46fd-87a8-231c7ce3f74c"
      },
      "outputs": [
        {
          "output_type": "execute_result",
          "data": {
            "text/plain": [
              "int"
            ]
          },
          "metadata": {},
          "execution_count": 6
        }
      ],
      "source": [
        "type(x)"
      ]
    },
    {
      "cell_type": "code",
      "execution_count": 8,
      "id": "599fcab2-c2b0-4d81-b285-37dc585bb81e",
      "metadata": {
        "id": "599fcab2-c2b0-4d81-b285-37dc585bb81e",
        "colab": {
          "base_uri": "https://localhost:8080/"
        },
        "outputId": "a76e4815-8e9a-42a4-ff16-f1ffa320e20c"
      },
      "outputs": [
        {
          "output_type": "stream",
          "name": "stdout",
          "text": [
            "42\n"
          ]
        }
      ],
      "source": [
        "print(x)"
      ]
    },
    {
      "cell_type": "code",
      "execution_count": 9,
      "id": "67ff6477-8db6-46b9-b3b1-775f60809e6a",
      "metadata": {
        "id": "67ff6477-8db6-46b9-b3b1-775f60809e6a",
        "colab": {
          "base_uri": "https://localhost:8080/"
        },
        "outputId": "196bf999-b4ba-4269-8b2b-362c078ae5c9"
      },
      "outputs": [
        {
          "output_type": "execute_result",
          "data": {
            "text/plain": [
              "42"
            ]
          },
          "metadata": {},
          "execution_count": 9
        }
      ],
      "source": [
        "'''\n",
        "In Jupyter/IPython (an interactive version of Python), this line of a cell will automatically\n",
        "be printed to screen so we don't actually need to explicitly call `print()`.\n",
        "'''\n",
        "x"
      ]
    },
    {
      "cell_type": "markdown",
      "id": "b1bdb331-6c2c-495a-9216-af26f89b86ed",
      "metadata": {
        "id": "b1bdb331-6c2c-495a-9216-af26f89b86ed"
      },
      "source": [
        "#### 🔹 Exercise: Integer and Float Variables\n",
        "Create the following variables and print their values and types:\n",
        "\n",
        "- `roll_number = 25` (int)\n",
        "- `percentage = 89.6` (float)"
      ]
    },
    {
      "cell_type": "code",
      "execution_count": 11,
      "id": "6edaf8f9-8744-441b-8e08-666c13f00208",
      "metadata": {
        "id": "6edaf8f9-8744-441b-8e08-666c13f00208",
        "colab": {
          "base_uri": "https://localhost:8080/"
        },
        "outputId": "f6f4d874-8cfb-4f12-cd5d-59df2f8989fd"
      },
      "outputs": [
        {
          "output_type": "stream",
          "name": "stdout",
          "text": [
            "<class 'int'>\n",
            "<class 'float'>\n"
          ]
        }
      ],
      "source": [
        "#Write your code below this line in this cell ..\n",
        "roll_number = 25\n",
        "print(type(roll_number))\n",
        "\n",
        "percentage = 89.6\n",
        "print(type(percentage))"
      ]
    },
    {
      "cell_type": "markdown",
      "id": "fd5c2575-75db-47a9-846f-79bdf0474ec8",
      "metadata": {
        "id": "fd5c2575-75db-47a9-846f-79bdf0474ec8"
      },
      "source": [
        "### Arithmetic Operators\n",
        "\n",
        "Below is a table of the syntax for common arithmetic operations in Python:\n",
        "\n",
        "| Operator |   Description    |\n",
        "| :------: | :--------------: |\n",
        "|   `+`    |     addition     |\n",
        "|   `-`    |   subtraction    |\n",
        "|   `*`    |  multiplication  |\n",
        "|   `/`    |     division     |\n",
        "|   `**`   |  exponentiation  |\n",
        "|   `//`   | integer division / floor division |\n",
        "|   `%`    |      modulo      |\n",
        "\n",
        "Let's have a go at applying these operators to numeric types and observe the results."
      ]
    },
    {
      "cell_type": "code",
      "execution_count": 12,
      "id": "422f86e1-c7c8-4bdc-8d48-347b5fb09fe7",
      "metadata": {
        "id": "422f86e1-c7c8-4bdc-8d48-347b5fb09fe7",
        "colab": {
          "base_uri": "https://localhost:8080/"
        },
        "outputId": "e5862e0a-d4c2-4e0e-ae55-f5bf737d982a"
      },
      "outputs": [
        {
          "output_type": "stream",
          "name": "stdout",
          "text": [
            "Sum of 1 to 5 is: 15\n",
            "Circumference of circle with r=1 (approx.): 6.28318\n",
            "2 raised to the power 10 is: 1024\n"
          ]
        }
      ],
      "source": [
        "# Numeric operations\n",
        "x = 1 + 2 + 3 + 4 + 5        # Addition\n",
        "y = 2 * 3.14159              # Multiplication with float (approximate value of pi)\n",
        "z = 2 ** 10                  # Exponentiation (2 to the power of 10)\n",
        "\n",
        "# Detailed output\n",
        "print(\"Sum of 1 to 5 is:\", x)\n",
        "print(\"Circumference of circle with r=1 (approx.):\", y)\n",
        "print(\"2 raised to the power 10 is:\", z)\n"
      ]
    },
    {
      "cell_type": "code",
      "execution_count": 13,
      "id": "be9d1e7d-e053-422b-a945-6ad62d13713e",
      "metadata": {
        "id": "be9d1e7d-e053-422b-a945-6ad62d13713e",
        "colab": {
          "base_uri": "https://localhost:8080/"
        },
        "outputId": "fdf1ecc3-5d6b-4b56-a3ae-dddc078ae9e5"
      },
      "outputs": [
        {
          "output_type": "execute_result",
          "data": {
            "text/plain": [
              "int"
            ]
          },
          "metadata": {},
          "execution_count": 13
        }
      ],
      "source": [
        "# Division may produce a different `dtype` than expected, it will change `int` to `float`.\n",
        "int_var = 2\n",
        "type(int_var)"
      ]
    },
    {
      "cell_type": "code",
      "execution_count": 14,
      "id": "802cce30-2d2a-4ae7-a55f-b498a01aec14",
      "metadata": {
        "id": "802cce30-2d2a-4ae7-a55f-b498a01aec14",
        "colab": {
          "base_uri": "https://localhost:8080/"
        },
        "outputId": "dea9b7c3-57a3-4753-abcf-ecb2bbabc4d7"
      },
      "outputs": [
        {
          "output_type": "execute_result",
          "data": {
            "text/plain": [
              "1.0"
            ]
          },
          "metadata": {},
          "execution_count": 14
        }
      ],
      "source": [
        "division = int_var / int_var\n",
        "division"
      ]
    },
    {
      "cell_type": "code",
      "execution_count": 15,
      "id": "95223305-7c57-4245-9fc8-7c9ac4e3ed3a",
      "metadata": {
        "id": "95223305-7c57-4245-9fc8-7c9ac4e3ed3a",
        "colab": {
          "base_uri": "https://localhost:8080/"
        },
        "outputId": "bc79e2eb-9e45-4122-ce4d-0c89316d320c"
      },
      "outputs": [
        {
          "output_type": "execute_result",
          "data": {
            "text/plain": [
              "float"
            ]
          },
          "metadata": {},
          "execution_count": 15
        }
      ],
      "source": [
        "type( division)"
      ]
    },
    {
      "cell_type": "markdown",
      "id": "6d653f32-9042-4a7e-be5d-cff6e212848d",
      "metadata": {
        "id": "6d653f32-9042-4a7e-be5d-cff6e212848d"
      },
      "source": [
        "#### 🔹 Exercise: Arethmatic Operators\n",
        "\n",
        "1. Create a variable to store your age and print it.\n",
        "(Covers variable declaration, numeric type, and print function)\n",
        "2. Given distance = 150 and time = 3, calculate and print the average speed.\n",
        "(Introduces real-world use of numeric data and division)\n",
        "3. Use exponentiation to calculate 2 raised to the power 5 and print the result.\n",
        "(Covers the ** operator and basic math)"
      ]
    },
    {
      "cell_type": "code",
      "execution_count": 16,
      "id": "886f6ecd-d4e1-4e41-b87a-b77600fe9b27",
      "metadata": {
        "id": "886f6ecd-d4e1-4e41-b87a-b77600fe9b27",
        "colab": {
          "base_uri": "https://localhost:8080/"
        },
        "outputId": "7580c33a-4e5a-4956-b55c-b46454838238"
      },
      "outputs": [
        {
          "output_type": "stream",
          "name": "stdout",
          "text": [
            "25\n",
            "50.0\n",
            "32\n"
          ]
        }
      ],
      "source": [
        "#Write your code below this line in this cell ..\n",
        "age = 25\n",
        "print(age)\n",
        "distance = 150\n",
        "time = 3\n",
        "speed = distance/time\n",
        "print(speed)\n",
        "print(2**5)"
      ]
    },
    {
      "cell_type": "markdown",
      "id": "f38ba3a4-68c9-4b43-9716-c2d1c3e71a1d",
      "metadata": {
        "id": "f38ba3a4-68c9-4b43-9716-c2d1c3e71a1d"
      },
      "source": [
        "### Strings\n",
        "**Text is stored as a data type called a string**. We can think of a string as a sequence of characters.\n",
        "\n",
        "We write strings as characters enclosed with either:\n",
        "\n",
        "- single quotes, e.g., 'Hello'\n",
        "-  double quotes, e.g., \"Goodbye\"\n",
        "\n",
        "There's no difference between the two methods, but there are cases where having both is useful (more on that below)! We also have triple double quotes, which are typically used for function documentation (more on that in a later chapter), e.g., \"\"\"This function adds two numbers\"\"\"."
      ]
    },
    {
      "cell_type": "code",
      "execution_count": 17,
      "id": "c269590b-6f68-494b-9aab-3f6548a0e8c1",
      "metadata": {
        "id": "c269590b-6f68-494b-9aab-3f6548a0e8c1",
        "colab": {
          "base_uri": "https://localhost:8080/"
        },
        "outputId": "2db3ea55-9474-4350-ee26-5e4b7d5efbbd"
      },
      "outputs": [
        {
          "output_type": "execute_result",
          "data": {
            "text/plain": [
              "str"
            ]
          },
          "metadata": {},
          "execution_count": 17
        }
      ],
      "source": [
        "My_name = \"Ashwini Kumar Mathur\"\n",
        "type(My_name)"
      ]
    },
    {
      "cell_type": "code",
      "execution_count": 18,
      "id": "5602f1df-1069-4034-90e9-cb04d42d3b95",
      "metadata": {
        "colab": {
          "base_uri": "https://localhost:8080/"
        },
        "id": "5602f1df-1069-4034-90e9-cb04d42d3b95",
        "outputId": "267b6ff0-7cac-4346-ba39-0ab19bbbc0e9"
      },
      "outputs": [
        {
          "output_type": "stream",
          "name": "stdout",
          "text": [
            "<class 'str'>\n",
            "<class 'str'>\n"
          ]
        }
      ],
      "source": [
        "# If the string contains a quotation or apostrophe, we can use a combination of single and double quotes to define the string.\n",
        "\n",
        "Sentence01 = \"It's a rainy day.\"\n",
        "Sentence02 = 'Donald Knuth: \"Premature optimization is the root of all evil.\"'\n",
        "print(type(Sentence01))\n",
        "print(type(Sentence02))"
      ]
    },
    {
      "cell_type": "markdown",
      "id": "6f078147-7106-491d-8f55-ab85332ac053",
      "metadata": {
        "id": "6f078147-7106-491d-8f55-ab85332ac053"
      },
      "source": [
        "#### 🔹 Exercise: String Operations\n",
        "\n",
        "1. Create a variable to store your full name and print it.  \n",
        "   (Covers string declaration and print function)\n",
        "   \n",
        "3. Concatenate two strings: \"Hello\" and your name. Print the greeting.  \n",
        "   (Introduces string concatenation)\n",
        "   \n",
        "5. Find the length of your name using the `len()` function.  \n",
        "   (Covers use of built-in functions)\n",
        "\n",
        "7. Convert your name to all uppercase and print it.  \n",
        "   (Uses `.upper()` string method)\n",
        "\n",
        "8. Check if your name starts with the letter \"A\" and print the result.  \n",
        "   (Uses `.startswith()` method)\n",
        "\n",
        "9. Split the full name into first name and last name. Print both.  \n",
        "   (Uses `.split()` method)\n",
        "\n",
        "10. Replace your last name with \"Verma\" and print the new name.  \n",
        "   (Demonstrates `.replace()` method)"
      ]
    },
    {
      "cell_type": "code",
      "execution_count": 21,
      "id": "34593fb9-45c4-49c9-b92e-79852e8b6aa9",
      "metadata": {
        "id": "34593fb9-45c4-49c9-b92e-79852e8b6aa9",
        "colab": {
          "base_uri": "https://localhost:8080/"
        },
        "outputId": "93788af9-70e0-41f1-848d-ea9a14925a03"
      },
      "outputs": [
        {
          "output_type": "stream",
          "name": "stdout",
          "text": [
            "ANNAPURNA S\n",
            "Hello ANNAPURNA S\n",
            "11\n",
            "ANNAPURNA S\n",
            "True\n",
            "ANNAPURNA S\n",
            "ANNAPURNA Verma\n"
          ]
        }
      ],
      "source": [
        "#Write your code below this line in this cell ..\n",
        "fullname = \"ANNAPURNA S\"\n",
        "print(fullname)\n",
        "greeting = \"Hello \" + fullname\n",
        "print(greeting)\n",
        "name_length = len(fullname)\n",
        "print(name_length)\n",
        "name_uppercase = fullname.upper()\n",
        "print(name_uppercase)\n",
        "starts_with_a = fullname.startswith(\"A\")\n",
        "print(starts_with_a)\n",
        "first_name, last_name = fullname.split()\n",
        "print(first_name, last_name)\n",
        "new_name = fullname.replace(\"S\", \"Verma\")\n",
        "print(new_name)"
      ]
    },
    {
      "cell_type": "markdown",
      "id": "480dd1b9-070c-4041-8891-48afcf090f78",
      "metadata": {
        "id": "480dd1b9-070c-4041-8891-48afcf090f78"
      },
      "source": [
        "### Boolean\n",
        "\n",
        "The Boolean (`bool`) type has two values: `True` and `False`."
      ]
    },
    {
      "cell_type": "code",
      "execution_count": 22,
      "id": "696df604-42fd-427f-aea4-3fa003f5a3e9",
      "metadata": {
        "colab": {
          "base_uri": "https://localhost:8080/"
        },
        "id": "696df604-42fd-427f-aea4-3fa003f5a3e9",
        "outputId": "6f8f4cbb-7502-44d8-f20e-80c950beeb39"
      },
      "outputs": [
        {
          "output_type": "execute_result",
          "data": {
            "text/plain": [
              "bool"
            ]
          },
          "metadata": {},
          "execution_count": 22
        }
      ],
      "source": [
        "the_truth = True\n",
        "type(the_truth)"
      ]
    },
    {
      "cell_type": "markdown",
      "id": "163fd9a8-39b1-4950-b2c2-ebb4fb281627",
      "metadata": {
        "id": "163fd9a8-39b1-4950-b2c2-ebb4fb281627"
      },
      "source": [
        "#### 🔹 Exercise: Boolean Operations (Good 2–3 Questions)\n",
        "\n",
        "1. Set `age = 18`. Write a condition to check if the person is eligible to vote (age ≥ 18).  \n",
        "   (Covers comparison and condition checking)\n",
        "\n",
        "2. Given `is_student = True` and `has_id = False`, check if both are true using `and`.  \n",
        "   (Covers logical AND)\n",
        "\n",
        "3. Reverse the result of the expression `5 > 10` using `not`.  \n",
        "   (Covers logical NOT)\n"
      ]
    },
    {
      "cell_type": "code",
      "execution_count": 39,
      "id": "1fa30260-2fd1-4aa7-b132-40bd0e6dcbd7",
      "metadata": {
        "id": "1fa30260-2fd1-4aa7-b132-40bd0e6dcbd7",
        "colab": {
          "base_uri": "https://localhost:8080/"
        },
        "outputId": "e1e34878-c906-4ad4-eaa6-4e5c7a4e894a"
      },
      "outputs": [
        {
          "output_type": "stream",
          "name": "stdout",
          "text": [
            "False\n",
            "Eligible to vote\n",
            "True\n"
          ]
        }
      ],
      "source": [
        "#Write your code below this line in this cell ..\n",
        "age = 25\n",
        "is_student = True\n",
        "has_id = False\n",
        "print(is_student and has_id)\n",
        "if age >= 18:\n",
        "    print(\"Eligible to vote\")\n",
        "else:\n",
        "    print(\"Not eligible to vote\")\n",
        "print(not 5 > 10)"
      ]
    },
    {
      "cell_type": "markdown",
      "id": "b8ce40a3-5ccf-49bc-a944-99e8454784d0",
      "metadata": {
        "id": "b8ce40a3-5ccf-49bc-a944-99e8454784d0"
      },
      "source": [
        "### Comparison Operators\n",
        "\n",
        "We can compare objects using comparison operators, and we'll get back a Boolean result:\n",
        "\n",
        "| Operator  | Description                          |\n",
        "| :-------- | :----------------------------------- |\n",
        "| `x == y ` | is `x` equal to `y`?                 |\n",
        "| `x != y`  | is `x` not equal to `y`?             |\n",
        "| `x > y`   | is `x` greater than `y`?             |\n",
        "| `x >= y`  | is `x` greater than or equal to `y`? |\n",
        "| `x < y`   | is `x` less than `y`?                |\n",
        "| `x <= y`  | is `x` less than or equal to `y`?    |\n",
        "| `x is y`  | is `x` the same object as `y`?       |"
      ]
    },
    {
      "cell_type": "code",
      "execution_count": 24,
      "id": "888cd46e-2597-490a-bad6-72f301d7349f",
      "metadata": {
        "colab": {
          "base_uri": "https://localhost:8080/"
        },
        "id": "888cd46e-2597-490a-bad6-72f301d7349f",
        "outputId": "5698ec37-7a5d-47a7-a4ab-d0b5878ce6a2"
      },
      "outputs": [
        {
          "output_type": "execute_result",
          "data": {
            "text/plain": [
              "True"
            ]
          },
          "metadata": {},
          "execution_count": 24
        }
      ],
      "source": [
        "2 < 3"
      ]
    },
    {
      "cell_type": "code",
      "execution_count": 25,
      "id": "82bdfdd8-727e-4c77-9630-c60b5b9c6339",
      "metadata": {
        "colab": {
          "base_uri": "https://localhost:8080/"
        },
        "id": "82bdfdd8-727e-4c77-9630-c60b5b9c6339",
        "outputId": "128c4c2a-1aa7-48cd-ae8f-46cee48861d3"
      },
      "outputs": [
        {
          "output_type": "execute_result",
          "data": {
            "text/plain": [
              "False"
            ]
          },
          "metadata": {},
          "execution_count": 25
        }
      ],
      "source": [
        "\"Machine learning\" == \"Solve all the world's problems\""
      ]
    },
    {
      "cell_type": "code",
      "execution_count": 26,
      "id": "e7d53722-a073-4d62-946a-c754bd20a8f0",
      "metadata": {
        "colab": {
          "base_uri": "https://localhost:8080/"
        },
        "id": "e7d53722-a073-4d62-946a-c754bd20a8f0",
        "outputId": "e6fc5a12-51bd-4e14-912a-b21de0311961"
      },
      "outputs": [
        {
          "output_type": "execute_result",
          "data": {
            "text/plain": [
              "True"
            ]
          },
          "metadata": {},
          "execution_count": 26
        }
      ],
      "source": [
        "2 != \"2\""
      ]
    },
    {
      "cell_type": "code",
      "execution_count": 27,
      "id": "55a71d09-ba8d-414a-9c44-2dfe991ca319",
      "metadata": {
        "colab": {
          "base_uri": "https://localhost:8080/"
        },
        "id": "55a71d09-ba8d-414a-9c44-2dfe991ca319",
        "outputId": "cf231943-0a09-484e-d09d-896bd0c25444"
      },
      "outputs": [
        {
          "output_type": "execute_result",
          "data": {
            "text/plain": [
              "True"
            ]
          },
          "metadata": {},
          "execution_count": 27
        }
      ],
      "source": [
        "2 == 2.0"
      ]
    },
    {
      "cell_type": "markdown",
      "id": "ef25ee4d-dfdc-4f59-b864-7b0db1bad2d6",
      "metadata": {
        "id": "ef25ee4d-dfdc-4f59-b864-7b0db1bad2d6"
      },
      "source": [
        "#### 🔹 Exercise: Comparison Operators\n",
        "\n",
        "1. Set `a = 10` and `b = 20`. Check if `a` is less than `b`.  \n",
        "   (Uses `<` operator)\n",
        "\n",
        "2. Check if `a` is greater than or equal to `b`.  \n",
        "   (Uses `>=` operator)\n",
        "\n",
        "3. Compare two strings: `name1 = \"Ashish\"` and `name2 = \"ashish\"`. Are they equal?  \n",
        "   (Uses `==` operator and introduces case sensitivity)\n"
      ]
    },
    {
      "cell_type": "code",
      "execution_count": 28,
      "id": "eb2637bb-334e-412a-a5f7-d4ec359318c0",
      "metadata": {
        "id": "eb2637bb-334e-412a-a5f7-d4ec359318c0",
        "colab": {
          "base_uri": "https://localhost:8080/"
        },
        "outputId": "6830d804-40de-434c-e534-030c0c7abfac"
      },
      "outputs": [
        {
          "output_type": "stream",
          "name": "stdout",
          "text": [
            "True\n",
            "False\n",
            "False\n"
          ]
        }
      ],
      "source": [
        "#Write your code below this line in this cell ..\n",
        "a = 10\n",
        "b = 20\n",
        "print(a < b)\n",
        "print( a >= b)\n",
        "name1 = \"Ashish\"\n",
        "name2 = \"ashish\"\n",
        "print(name1 == name2)"
      ]
    },
    {
      "cell_type": "markdown",
      "id": "4e5f24c5-e9a6-416d-ba07-10cf7fb4091f",
      "metadata": {
        "id": "4e5f24c5-e9a6-416d-ba07-10cf7fb4091f"
      },
      "source": [
        "## Boolean Operators\n",
        "\n",
        "We also have so-called \"boolean operators\" which also evaluates to either `True` or `False`:\n",
        "\n",
        "| Operator | Description |\n",
        "| :---: | :--- |\n",
        "|`x and y`| are `x` and `y` both True? |\n",
        "|`x or y` | is at least one of `x` and `y` True? |\n",
        "| `not x` | is `x` False? |"
      ]
    },
    {
      "cell_type": "code",
      "execution_count": 29,
      "id": "18e4eab8-2b76-4cd6-b022-e60366790247",
      "metadata": {
        "id": "18e4eab8-2b76-4cd6-b022-e60366790247",
        "colab": {
          "base_uri": "https://localhost:8080/"
        },
        "outputId": "dcb28d9f-0cb0-4e1c-c0a2-96b1b7c47279"
      },
      "outputs": [
        {
          "output_type": "execute_result",
          "data": {
            "text/plain": [
              "True"
            ]
          },
          "metadata": {},
          "execution_count": 29
        }
      ],
      "source": [
        "True or False"
      ]
    },
    {
      "cell_type": "code",
      "execution_count": 30,
      "id": "4661c032-421a-4f8d-82c1-306f9f81d143",
      "metadata": {
        "id": "4661c032-421a-4f8d-82c1-306f9f81d143",
        "colab": {
          "base_uri": "https://localhost:8080/"
        },
        "outputId": "fe75b122-03de-43b9-8fd2-c0b0f1e04409"
      },
      "outputs": [
        {
          "output_type": "execute_result",
          "data": {
            "text/plain": [
              "True"
            ]
          },
          "metadata": {},
          "execution_count": 30
        }
      ],
      "source": [
        "(\"Python 2\" != \"Python 3\") and (2 <= 3)"
      ]
    },
    {
      "cell_type": "code",
      "execution_count": 31,
      "id": "bccac0ab-75ea-4ca8-a071-ab3c036b11ed",
      "metadata": {
        "id": "bccac0ab-75ea-4ca8-a071-ab3c036b11ed",
        "colab": {
          "base_uri": "https://localhost:8080/"
        },
        "outputId": "1ab33b2a-6ab8-4cdd-8d87-f4c4bb8c53cf"
      },
      "outputs": [
        {
          "output_type": "execute_result",
          "data": {
            "text/plain": [
              "True"
            ]
          },
          "metadata": {},
          "execution_count": 31
        }
      ],
      "source": [
        "not not True"
      ]
    },
    {
      "cell_type": "markdown",
      "id": "8114cf04-fc03-46fe-a4fb-2de0e78daee8",
      "metadata": {
        "id": "8114cf04-fc03-46fe-a4fb-2de0e78daee8"
      },
      "source": [
        "#### 🔹 Exercise: Boolean Operators\n",
        "\n",
        "1. Let `x = True` and `y = False`. Evaluate `x and y`.  \n",
        "   (Demonstrates logical AND)\n",
        "\n",
        "2. Let `x = True` and `y = False`. Evaluate `x or y`.  \n",
        "   (Demonstrates logical OR)\n",
        "\n",
        "3. Let `status = True`. Use `not` to reverse the value.  \n",
        "   (Demonstrates logical NOT)"
      ]
    },
    {
      "cell_type": "code",
      "source": [
        "x = True\n",
        "y = False\n",
        "print(x and y)\n",
        "print(x or y)\n",
        "status = True\n",
        "print(not status)"
      ],
      "metadata": {
        "colab": {
          "base_uri": "https://localhost:8080/"
        },
        "id": "rbXHgTw0wrdp",
        "outputId": "fe61b143-183d-4805-e99d-cbcfd4e2d862"
      },
      "id": "rbXHgTw0wrdp",
      "execution_count": 32,
      "outputs": [
        {
          "output_type": "stream",
          "name": "stdout",
          "text": [
            "False\n",
            "True\n",
            "False\n"
          ]
        }
      ]
    },
    {
      "cell_type": "markdown",
      "id": "de8ae22a-2ecd-499d-bf9a-53aa19608519",
      "metadata": {
        "id": "de8ae22a-2ecd-499d-bf9a-53aa19608519"
      },
      "source": [
        "### Casting [ Optional ]\n",
        "\n",
        "Sometimes we need to explicitly **cast** a value from one type to another. We can do this using functions like `str()`, `int()`, and `float()`. Python tries to do the conversion, or throws an error if it can't."
      ]
    },
    {
      "cell_type": "code",
      "execution_count": 33,
      "id": "7083790d-fe85-48d6-bb6c-7c72066529f3",
      "metadata": {
        "id": "7083790d-fe85-48d6-bb6c-7c72066529f3",
        "colab": {
          "base_uri": "https://localhost:8080/"
        },
        "outputId": "402f71ad-8e33-40ad-d9a2-d2d4bcebb2e5"
      },
      "outputs": [
        {
          "output_type": "execute_result",
          "data": {
            "text/plain": [
              "float"
            ]
          },
          "metadata": {},
          "execution_count": 33
        }
      ],
      "source": [
        "x = 5.0\n",
        "type(x)"
      ]
    },
    {
      "cell_type": "code",
      "execution_count": 34,
      "id": "89c15254-7678-453f-9732-92d5bfcbb5d4",
      "metadata": {
        "id": "89c15254-7678-453f-9732-92d5bfcbb5d4",
        "colab": {
          "base_uri": "https://localhost:8080/"
        },
        "outputId": "4095841f-e7e5-4545-a8cf-6129e263ae6b"
      },
      "outputs": [
        {
          "output_type": "stream",
          "name": "stdout",
          "text": [
            "5.0\n",
            "<class 'str'>\n"
          ]
        }
      ],
      "source": [
        "x = str(5.0)\n",
        "print(x)\n",
        "print(type(x))"
      ]
    },
    {
      "cell_type": "markdown",
      "id": "103448cd-d326-4534-9b58-dce74b3b51cf",
      "metadata": {
        "id": "103448cd-d326-4534-9b58-dce74b3b51cf"
      },
      "source": [
        "### Control Structures and Loops\n",
        "<hr>\n",
        "\n",
        "## ✅ Control Structures\n",
        "\n",
        "Control structures help you make decisions in your code based on conditions.\n",
        "\n",
        "| Structure | Description |\n",
        "| :---: | :--- |\n",
        "| `if x:` | Executes block if `x` is `True` |\n",
        "| `if x else:` | Executes first block if `x` is `True`, else the second block |\n",
        "| `elif` | Checks another condition if previous `if` was `False` |\n",
        "| `if x == y:` | Executes block only if `x` is equal to `y` |\n",
        "\n",
        "---\n",
        "\n",
        "## 🔁 Loops\n",
        "\n",
        "Loops let you repeat a block of code multiple times.\n",
        "\n",
        "| Loop | Description |\n",
        "| :---: | :--- |\n",
        "| `for item in list:` | Iterates over each item in a list or range |\n",
        "| `for i in range(n):` | Repeats loop `n` times with `i` from 0 to `n-1` |\n",
        "| `while condition:` | Repeats as long as the condition is `True` |\n",
        "| `break` | Exits the loop early |\n",
        "| `continue` | Skips the current iteration and continues the loop |\n"
      ]
    },
    {
      "cell_type": "markdown",
      "id": "cf700e44-5381-47ac-89e3-e8045fec766a",
      "metadata": {
        "id": "cf700e44-5381-47ac-89e3-e8045fec766a"
      },
      "source": [
        "#### Scenario: Control Structure\n",
        "**Each team submits a project. Based on the score (out of 100), assign a remark.**"
      ]
    },
    {
      "cell_type": "code",
      "execution_count": 35,
      "id": "d215beaa-4295-41fb-9e49-9178878dde90",
      "metadata": {
        "colab": {
          "base_uri": "https://localhost:8080/"
        },
        "id": "d215beaa-4295-41fb-9e49-9178878dde90",
        "outputId": "45daa9c8-6b52-43c0-c7de-1cfd7233cf00"
      },
      "outputs": [
        {
          "output_type": "stream",
          "name": "stdout",
          "text": [
            "Remark: Excellent Work\n"
          ]
        }
      ],
      "source": [
        "# Hackathon Project Evaluation\n",
        "score = 85\n",
        "\n",
        "if score >= 90:\n",
        "    print(\"Remark: Outstanding Innovation\")\n",
        "elif score >= 75:\n",
        "    print(\"Remark: Excellent Work\")\n",
        "elif score >= 60:\n",
        "    print(\"Remark: Good Effort\")\n",
        "elif score >= 40:\n",
        "    print(\"Remark: Fair Attempt\")\n",
        "else:\n",
        "    print(\"Remark: Needs Improvement\")"
      ]
    },
    {
      "cell_type": "markdown",
      "id": "6947ac71-87cc-4f92-92c2-59317a76a92d",
      "metadata": {
        "id": "6947ac71-87cc-4f92-92c2-59317a76a92d"
      },
      "source": [
        "#### Control Structure Exercise\n",
        "\n",
        "**Task Fuel Level Check**\n",
        "<hr>\n",
        "\n",
        "Ask the user to input the fuel level percentage.\n",
        "\n",
        "If fuel ≥ 90: Print “Ready for Launch 🚀”\n",
        "\n",
        "If 70 ≤ fuel < 90: Print “Prepare for Launch - Fuel Optimal ✅”\n",
        "\n",
        "If 40 ≤ fuel < 70: Print “Warning - Fuel Low ⚠️”\n",
        "\n",
        "If fuel < 40: Print “Abort Mission ❌ - Critical Fuel Level”\n",
        "\n",
        "\n",
        "\n"
      ]
    },
    {
      "cell_type": "code",
      "execution_count": 36,
      "id": "e05fd637-a121-49a0-9838-f8040e437af6",
      "metadata": {
        "id": "e05fd637-a121-49a0-9838-f8040e437af6",
        "colab": {
          "base_uri": "https://localhost:8080/"
        },
        "outputId": "b5a54ff8-55f8-4508-8fa0-e450044cd4c0"
      },
      "outputs": [
        {
          "output_type": "stream",
          "name": "stdout",
          "text": [
            "Enter the fuel level percentage\n",
            "100\n",
            "Ready for Launch 🚀\n"
          ]
        }
      ],
      "source": [
        "#Write your code below this line in this cell ..\n",
        "print(\"Enter the fuel level percentage\")\n",
        "fuel = int(input())\n",
        "\n",
        "if fuel >= 90:\n",
        "    print(\"Ready for Launch 🚀\")\n",
        "elif 70 <= fuel < 90:\n",
        "    print(\"Prepare for Launch - Fuel Optimal ✅\")\n",
        "elif 40 <= fuel < 70:\n",
        "    print(\"Warning - Fuel Low ⚠️\")\n",
        "else :\n",
        "    print(\"Abort Mission ❌ - Critical Fuel Level\")"
      ]
    },
    {
      "cell_type": "markdown",
      "id": "59eca8d3-ba37-4c38-9eaf-4f5bb766da96",
      "metadata": {
        "id": "59eca8d3-ba37-4c38-9eaf-4f5bb766da96"
      },
      "source": [
        "#### Mission: Countdown to Launch\n",
        "\n",
        "Write a for loop to count down from 10 to 1 and print:"
      ]
    },
    {
      "cell_type": "code",
      "execution_count": 37,
      "id": "53c23ab3-ea64-44fc-ab67-927e47e72054",
      "metadata": {
        "id": "53c23ab3-ea64-44fc-ab67-927e47e72054",
        "colab": {
          "base_uri": "https://localhost:8080/"
        },
        "outputId": "a1091150-6f97-49e5-9266-d8e038f96911"
      },
      "outputs": [
        {
          "output_type": "stream",
          "name": "stdout",
          "text": [
            "T-minus 10\n",
            "T-minus 9\n",
            "T-minus 8\n",
            "T-minus 7\n",
            "T-minus 6\n",
            "T-minus 5\n",
            "T-minus 4\n",
            "T-minus 3\n",
            "T-minus 2\n",
            "T-minus 1\n",
            "🚀 Lift-off!\n"
          ]
        }
      ],
      "source": [
        "# Sample Logic\n",
        "for t in range(10, 0, -1):\n",
        "    print(\"T-minus\", t) #careful about indentation.\n",
        "print(\"🚀 Lift-off!\")"
      ]
    },
    {
      "cell_type": "markdown",
      "id": "1607a98e-2d7d-4894-a608-b2f1e1c49ca2",
      "metadata": {
        "id": "1607a98e-2d7d-4894-a608-b2f1e1c49ca2"
      },
      "source": [
        "#### Mission: Task for Rover Battery Check\n",
        "\n",
        "<hr>\n",
        "\n",
        "**Simulate rover battery draining every hour. Stop when it drops below 20%.**"
      ]
    },
    {
      "cell_type": "code",
      "execution_count": 40,
      "id": "175442c1-971f-48d3-89e6-95993b54777a",
      "metadata": {
        "id": "175442c1-971f-48d3-89e6-95993b54777a",
        "colab": {
          "base_uri": "https://localhost:8080/"
        },
        "outputId": "75ecec9d-b1e6-4e0c-e07e-3f969d105ff3"
      },
      "outputs": [
        {
          "output_type": "stream",
          "name": "stdout",
          "text": [
            "Battery level: 100 %\n",
            "Battery level: 80 %\n",
            "Battery level: 60 %\n",
            "Battery level: 40 %\n",
            "Battery level: 20 %\n"
          ]
        }
      ],
      "source": [
        "#Write your code below this line in this cell ..\n",
        "battery_level = 100\n",
        "\n",
        "while battery_level >= 20:\n",
        "    print(\"Battery level:\", battery_level, \"%\")\n",
        "    battery_level -= 20\n"
      ]
    },
    {
      "cell_type": "markdown",
      "id": "8a7e117c-7f66-43e6-8e63-d297f7a387f2",
      "metadata": {
        "id": "8a7e117c-7f66-43e6-8e63-d297f7a387f2"
      },
      "source": [
        "### Data Structures - List, Tuple and Dictionaries\n",
        "<hr>"
      ]
    },
    {
      "cell_type": "markdown",
      "id": "6b67c15d-1743-40e7-810a-b3d475925a75",
      "metadata": {
        "id": "6b67c15d-1743-40e7-810a-b3d475925a75"
      },
      "source": [
        "### List — To Store Student Names\n",
        "<hr>\n",
        "**Scenario:** A teacher wants to store and manage the names of students attending a Python workshop.\n",
        "\n",
        "**Key Characteristics:**\n",
        "\n",
        "- Ordered\n",
        "- Mutable (can add/remove)\n",
        "- Suitable for collections of similar items"
      ]
    },
    {
      "cell_type": "code",
      "execution_count": 41,
      "id": "57ea3269-42a6-47d2-a252-010f1df907a0",
      "metadata": {
        "id": "57ea3269-42a6-47d2-a252-010f1df907a0",
        "colab": {
          "base_uri": "https://localhost:8080/"
        },
        "outputId": "2767a290-c116-4ec5-ddcf-78ef67860fc3"
      },
      "outputs": [
        {
          "output_type": "stream",
          "name": "stdout",
          "text": [
            "Arjun\n",
            "Chirag\n",
            "Divya\n"
          ]
        }
      ],
      "source": [
        "# List of students\n",
        "students = [\"Arjun\", \"Beena\", \"Chirag\"]\n",
        "\n",
        "# Add a new student\n",
        "students.append(\"Divya\")\n",
        "\n",
        "# Remove a student who dropped out\n",
        "students.remove(\"Beena\")\n",
        "\n",
        "# Display all students\n",
        "for name in students:\n",
        "    print(name)"
      ]
    },
    {
      "cell_type": "markdown",
      "id": "1b2044a5-621b-4a17-8270-dc7a2af09c87",
      "metadata": {
        "id": "1b2044a5-621b-4a17-8270-dc7a2af09c87"
      },
      "source": [
        "#### 🔹 Exercise: List Operations\n",
        "\n",
        "1. Create a list of your 5 favorite fruits and print the list.  \n",
        "   (Covers list creation and print function)\n",
        "\n",
        "2. Add a new fruit to the list using `append()` and print the updated list.  \n",
        "   (Demonstrates list mutation)\n",
        "\n",
        "3. Remove the third item from the list using `pop()` and display the final list.  \n",
        "   (Covers indexing and list modification)\n"
      ]
    },
    {
      "cell_type": "code",
      "execution_count": 44,
      "id": "5c225024-57f6-4eea-9a90-ab9b30f47837",
      "metadata": {
        "id": "5c225024-57f6-4eea-9a90-ab9b30f47837",
        "colab": {
          "base_uri": "https://localhost:8080/",
          "height": 35
        },
        "outputId": "b64d222d-e725-4a0a-f076-ccf9c4305c33"
      },
      "outputs": [
        {
          "output_type": "execute_result",
          "data": {
            "text/plain": [
              "'kiwi'"
            ],
            "application/vnd.google.colaboratory.intrinsic+json": {
              "type": "string"
            }
          },
          "metadata": {},
          "execution_count": 44
        }
      ],
      "source": [
        "#Write your code below this line in this cell ..\n",
        "fruits = [\"apple\", \"banana\", \"pomogrenate\", \"kiwi\", \"orange\"]\n",
        "fruits.append(\"papaya\")\n",
        "fruits.pop(3)"
      ]
    },
    {
      "cell_type": "markdown",
      "id": "de155169-8c11-42e2-8990-9db7eda8db73",
      "metadata": {
        "id": "de155169-8c11-42e2-8990-9db7eda8db73"
      },
      "source": [
        "### Tuple — To Store Coordinates of Classroom Seats\n",
        "<hr>\n",
        "**Scenario:** Each student has a fixed assigned seat represented as (row, column) in the classroom.\n",
        "\n",
        "**Key Characteristics:**\n",
        "- Ordered\n",
        "- Immutable\n",
        "- Suitable for fixed data like coordinates, date, RGB colors"
      ]
    },
    {
      "cell_type": "code",
      "execution_count": 45,
      "id": "f4862b24-5cda-4a09-bfcc-061b3d8b7937",
      "metadata": {
        "id": "f4862b24-5cda-4a09-bfcc-061b3d8b7937",
        "colab": {
          "base_uri": "https://localhost:8080/"
        },
        "outputId": "12d06d87-d806-46b8-f266-2e18d5479883"
      },
      "outputs": [
        {
          "output_type": "stream",
          "name": "stdout",
          "text": [
            "Row of seat_A: 1\n"
          ]
        }
      ],
      "source": [
        "# Fixed seat positions (row, column)\n",
        "seat_A = (1, 2)\n",
        "seat_B = (2, 3)\n",
        "\n",
        "# Accessing tuple values\n",
        "print(\"Row of seat_A:\", seat_A[0])\n",
        "\n",
        "# seat_A[0] = 4  # ❌ Error: Tuples are immutable"
      ]
    },
    {
      "cell_type": "markdown",
      "id": "269f3540-d800-498a-846f-0021c7785fd9",
      "metadata": {
        "id": "269f3540-d800-498a-846f-0021c7785fd9"
      },
      "source": [
        "#### 🔹 Exercise: Tuple Operations\n",
        "\n",
        "1. Create a tuple containing the names of 3 programming languages.  \n",
        "   (Covers tuple creation)\n",
        "\n",
        "2. Access and print the second item from the tuple.  \n",
        "   (Covers indexing)\n",
        "\n",
        "3. Try to change the first item of the tuple and observe what happens.  \n",
        "   (Demonstrates tuple immutability)\n"
      ]
    },
    {
      "cell_type": "code",
      "execution_count": null,
      "id": "fce22023-8041-4614-8a5c-77dc8746bf59",
      "metadata": {
        "id": "fce22023-8041-4614-8a5c-77dc8746bf59"
      },
      "outputs": [],
      "source": [
        "#Write your code below this line in this cell .."
      ]
    },
    {
      "cell_type": "markdown",
      "id": "86e5a4fb-c1b4-4800-938f-6392185540e9",
      "metadata": {
        "id": "86e5a4fb-c1b4-4800-938f-6392185540e9"
      },
      "source": [
        "#### Dictionary — To Store Student Marks\n",
        "**Scenario:** Store marks of students using names as keys.\n",
        "<hr>\n",
        "\n",
        "**Key Characteristics:**\n",
        "\n",
        "- Key-value pairs\n",
        "- Unordered (in older versions of Python)\n",
        "- Mutable\n",
        "- Ideal for mappings (name → mark, ID → profile, etc.)"
      ]
    },
    {
      "cell_type": "code",
      "execution_count": null,
      "id": "3639c1b3-67d0-4203-b866-40e4d23e2fa8",
      "metadata": {
        "id": "3639c1b3-67d0-4203-b866-40e4d23e2fa8"
      },
      "outputs": [],
      "source": [
        "# Dictionary with student marks\n",
        "marks = {\n",
        "    \"Arjun\": 85,\n",
        "    \"Chiru\": 78,\n",
        "    \"Divya\": 92\n",
        "}\n",
        "\n",
        "# Update marks\n",
        "marks[\"Chiru\"] = 81\n",
        "\n",
        "# Add a new entry\n",
        "marks[\"Elina\"] = 88\n",
        "\n",
        "# Display all student marks\n",
        "for student, score in marks.items():\n",
        "    print(f\"{student} scored {score}\")"
      ]
    },
    {
      "cell_type": "markdown",
      "id": "6297abd6-9fc8-4b36-8c67-6debaa40c59c",
      "metadata": {
        "id": "6297abd6-9fc8-4b36-8c67-6debaa40c59c"
      },
      "source": [
        "#### 🔹 Exercise: Dictionary Operations\n",
        "\n",
        "1. Create a dictionary with keys: `\"name\"`, `\"age\"`, and `\"grade\"` and assign appropriate values.  \n",
        "   (Covers dictionary creation)\n",
        "\n",
        "2. Add a new key `\"subject\"` with the value `\"Math\"` to the dictionary.  \n",
        "   (Demonstrates adding key-value pairs)\n",
        "\n",
        "3. Update the value of `\"grade\"` to `\"A+\"` and print the updated dictionary.  \n",
        "   (Covers value updating)"
      ]
    },
    {
      "cell_type": "code",
      "execution_count": null,
      "id": "22481379-09de-4423-85f9-b8400cfe333e",
      "metadata": {
        "id": "22481379-09de-4423-85f9-b8400cfe333e"
      },
      "outputs": [],
      "source": [
        "#Write your code below this line in this cell .."
      ]
    },
    {
      "cell_type": "markdown",
      "id": "bbb696ea-b7ed-44e8-9570-0413817a2f74",
      "metadata": {
        "id": "bbb696ea-b7ed-44e8-9570-0413817a2f74"
      },
      "source": [
        "### 📋 Summary Table: List vs Tuple vs Dictionary\n",
        "\n",
        "| Data Structure | Use Case                     | Ordered | Mutable | Syntax Example                | Access Example     |\n",
        "|----------------|------------------------------|---------|---------|-------------------------------|--------------------|\n",
        "| **List**       | Store a list of student names | ✅ Yes  | ✅ Yes  | `[\"Arjun\", \"Beena\"]`          | `students[0]`      |\n",
        "| **Tuple**      | Fixed seat coordinates        | ✅ Yes  | ❌ No   | `(1, 2)`                      | `seat[1]`          |\n",
        "| **Dictionary** | Map student name to marks     | ✅\\*     | ✅ Yes  | `{\"Arjun\": 85, \"Divya\": 92}`  | `marks[\"Arjun\"]`   |\n"
      ]
    },
    {
      "cell_type": "markdown",
      "id": "830c1f58-9673-468a-b327-a6c65404b65c",
      "metadata": {
        "id": "830c1f58-9673-468a-b327-a6c65404b65c"
      },
      "source": [
        "**End of Morning Session**\n",
        "<hr>\n",
        "\n",
        "Upcoming Session starts from 1:30 PM. See you soon.."
      ]
    }
  ],
  "metadata": {
    "colab": {
      "provenance": [],
      "collapsed_sections": [
        "36ba7cb2-ccba-416f-9387-66cd2143f7fd"
      ],
      "include_colab_link": true
    },
    "kernelspec": {
      "display_name": "Python 3 (ipykernel)",
      "language": "python",
      "name": "python3"
    },
    "language_info": {
      "codemirror_mode": {
        "name": "ipython",
        "version": 3
      },
      "file_extension": ".py",
      "mimetype": "text/x-python",
      "name": "python",
      "nbconvert_exporter": "python",
      "pygments_lexer": "ipython3",
      "version": "3.13.5"
    }
  },
  "nbformat": 4,
  "nbformat_minor": 5
}